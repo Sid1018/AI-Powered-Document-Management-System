{
  "nbformat": 4,
  "nbformat_minor": 0,
  "metadata": {
    "colab": {
      "provenance": []
    },
    "kernelspec": {
      "name": "python3",
      "display_name": "Python 3"
    },
    "language_info": {
      "name": "python"
    }
  },
  "cells": [
    {
      "cell_type": "code",
      "execution_count": null,
      "metadata": {
        "id": "FVvzoYektJb4"
      },
      "outputs": [],
      "source": [
        "# Install necessary libraries\n",
        "!pip install gensim\n",
        "\n",
        "from gensim.models import Word2Vec\n",
        "from sklearn.metrics.pairwise import cosine_similarity\n",
        "import numpy as np\n",
        "\n",
        "# Sample data\n",
        "documents = [\n",
        "    'This is a NoC document.',\n",
        "    'This is a birth certificate.',\n",
        "    'This is a death certificate.'\n",
        "]\n",
        "\n",
        "# Preprocess documents\n",
        "processed_docs = [doc.lower().split() for doc in documents]\n",
        "\n",
        "# Train Word2Vec model\n",
        "model = Word2Vec(sentences=processed_docs, vector_size=100, window=5, min_count=1, workers=4)\n",
        "\n",
        "# Function to get document vectors\n",
        "def get_document_vector(doc):\n",
        "    doc = doc.lower().split()\n",
        "    vec = np.mean([model.wv[word] for word in doc if word in model.wv], axis=0)\n",
        "    return vec\n",
        "\n",
        "# Function to search documents\n",
        "def search_documents(query, documents):\n",
        "    query_vec = get_document_vector(query)\n",
        "    doc_vectors = [get_document_vector(doc) for doc in documents]\n",
        "    similarities = cosine_similarity([query_vec], doc_vectors).flatten()\n",
        "    sorted_doc_indices = np.argsort(similarities)[::-1]\n",
        "    return [documents[i] for i in sorted_doc_indices]\n",
        "\n",
        "# Perform search\n",
        "query = \"NoC document\"\n",
        "results = search_documents(query, documents)\n",
        "print(\"Search Results:\", results)\n"
      ]
    }
  ]
}