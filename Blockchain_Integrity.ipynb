{
  "nbformat": 4,
  "nbformat_minor": 0,
  "metadata": {
    "colab": {
      "provenance": []
    },
    "kernelspec": {
      "name": "python3",
      "display_name": "Python 3"
    },
    "language_info": {
      "name": "python"
    }
  },
  "cells": [
    {
      "cell_type": "code",
      "execution_count": null,
      "metadata": {
        "id": "5Mp8L2Vps1Zb"
      },
      "outputs": [],
      "source": [
        "# Install necessary libraries\n",
        "!pip install pycryptodome\n",
        "\n",
        "from Crypto.Hash import SHA256\n",
        "import json\n",
        "import time\n",
        "\n",
        "class Block:\n",
        "    def __init__(self, index, previous_hash, timestamp, data, hash):\n",
        "        self.index = index\n",
        "        self.previous_hash = previous_hash\n",
        "        self.timestamp = timestamp\n",
        "        self.data = data\n",
        "        self.hash = hash\n",
        "\n",
        "def create_genesis_block():\n",
        "    return Block(0, \"0\", int(time.time()), \"Genesis Block\", calculate_hash(0, \"0\", int(time.time()), \"Genesis Block\"))\n",
        "\n",
        "def calculate_hash(index, previous_hash, timestamp, data):\n",
        "    value = str(index) + previous_hash + str(timestamp) + data\n",
        "    return SHA256.new(value.encode('utf-8')).hexdigest()\n",
        "\n",
        "def create_new_block(previous_block, data):\n",
        "    index = previous_block.index + 1\n",
        "    timestamp = int(time.time())\n",
        "    hash = calculate_hash(index, previous_block.hash, timestamp, data)\n",
        "    return Block(index, previous_block.hash, timestamp, data, hash)\n",
        "\n",
        "# Create blockchain\n",
        "blockchain = [create_genesis_block()]\n",
        "previous_block = blockchain[0]\n",
        "\n",
        "# Add blocks\n",
        "new_data = [\"Document 1\", \"Document 2\", \"Document 3\"]\n",
        "for data in new_data:\n",
        "    new_block = create_new_block(previous_block, data)\n",
        "    blockchain.append(new_block)\n",
        "    previous_block = new_block\n",
        "\n",
        "# Display blockchain\n",
        "for block in blockchain:\n",
        "    print(f'Index: {block.index}, Previous Hash: {block.previous_hash}, Timestamp: {block.timestamp}, Data: {block.data}, Hash: {block.hash}')\n"
      ]
    }
  ]
}